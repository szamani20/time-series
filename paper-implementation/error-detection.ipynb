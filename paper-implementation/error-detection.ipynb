{
 "cells": [
  {
   "cell_type": "code",
   "execution_count": 1,
   "metadata": {},
   "outputs": [],
   "source": [
    "%matplotlib inline\n",
    "import math\n",
    "import pprint\n",
    "\n",
    "import numpy as np\n",
    "from sklearn.neighbors import NearestNeighbors\n",
    "# from pyts.approximation import SymbolicAggregateApproximation\n",
    "from saxpy.znorm import znorm\n",
    "from saxpy.paa import paa\n",
    "import pandas as pd\n",
    "import seaborn as sns\n",
    "from saxpy.sax import ts_to_string\n",
    "from saxpy.alphabet import cuts_for_asize\n",
    "from sklearn.mixture import GaussianMixture\n",
    "import matplotlib.pyplot as plt\n",
    "import warnings\n",
    "from tqdm import tqdm\n",
    "from datetime import datetime\n",
    "\n",
    "warnings.filterwarnings(\"ignore\")\n",
    "\n",
    "pd.set_option('display.max_rows', None)\n",
    "pd.set_option('display.max_columns', None)\n",
    "pd.set_option('display.width', None)\n",
    "pd.set_option('display.max_colwidth', -1)"
   ]
  },
  {
   "cell_type": "code",
   "execution_count": 2,
   "metadata": {},
   "outputs": [],
   "source": [
    "class ErrorDetection:\n",
    "    def __init__(self, time_series, k=None, c=None, v=None):\n",
    "        self.time_series = time_series\n",
    "        self.time_series_values = self.time_series[:, 1]\n",
    "        self.candidate_scores = {}  # index of candidate point --> [MS, CS, VS]\n",
    "        # After the clustering, it would be index --> [MS, CS, VS, Label]\n",
    "        self.knn = {}  # k --> result of running KNN for specified k\n",
    "        self.k = k\n",
    "        self.c = c\n",
    "        self.v = v\n",
    "\n",
    "    def compute_scores(self, candidate_points):\n",
    "        for i in tqdm(range(len(candidate_points))):\n",
    "            point_index = candidate_points[i]\n",
    "            magnitude_score, inn_set = self.compute_magnitude_score(point_index)\n",
    "            # correlation_score = self.compute_correlation_score(inn_set, candidate_points)\n",
    "            correlation_score = 0\n",
    "            variance_score = self.compute_variance_score(inn_set, point_index)\n",
    "            self.candidate_scores[point_index] = [magnitude_score, correlation_score, variance_score]\n",
    "\n",
    "    def compute_magnitude_score(self, point_index):\n",
    "        # point_inn = self.compute_inn(time_series, point[0])\n",
    "        point_inn = self.compute_inn(self.time_series_values, point_index)\n",
    "        return len(point_inn) / len(self.time_series_values), point_inn\n",
    "        # return len(point_inn) / 299, point_inn\n",
    "\n",
    "    @staticmethod\n",
    "    def compute_correlation_score(inn_set, points):\n",
    "        inn_znorm = znorm(list(inn_set))\n",
    "        inn_paa_M = paa(inn_znorm, len(inn_znorm))\n",
    "        inn_sax = ts_to_string(inn_paa_M, cuts_for_asize(20))\n",
    "\n",
    "        data_znorm = znorm(points[:, 1])\n",
    "        data_paa_M = paa(data_znorm, len(data_znorm))\n",
    "        data_sax = ts_to_string(data_paa_M, cuts_for_asize(20))\n",
    "\n",
    "        # print(inn_sax)\n",
    "        # print(data_sax)\n",
    "\n",
    "        return data_sax.count(inn_sax)\n",
    "\n",
    "    def compute_variance_score(self, inn_set, point_index):\n",
    "        if len(inn_set) == 0:\n",
    "            return 1\n",
    "\n",
    "        left_index = max(0, point_index - len(inn_set))\n",
    "        # For the moment, candidate set and the time series set are the same\n",
    "        right_index = min(len(self.time_series_values), point_index + len(inn_set) + 1)\n",
    "\n",
    "        SPa_set = self.time_series_values[left_index: right_index]\n",
    "\n",
    "        diff = []\n",
    "        for ind in range(left_index, right_index):\n",
    "            if ind not in inn_set:\n",
    "                diff.append(self.time_series_values[ind])\n",
    "\n",
    "        return np.std(diff) / np.std(SPa_set)\n",
    "\n",
    "    @staticmethod\n",
    "    def compute_anomaly_score(data_points):\n",
    "        return np.abs(np.diff(np.abs(np.diff(data_points))))\n",
    "\n",
    "    @staticmethod\n",
    "    def compute_median_absolute_deviation(anomaly_score):\n",
    "        med = np.median(anomaly_score)\n",
    "        return np.median(np.abs(anomaly_score - med))\n",
    "\n",
    "    def compute_inn(self, time_series_values, point_index):\n",
    "        inn_set = set()\n",
    "        finished = False\n",
    "        for r in range(len(time_series_values) - 1):\n",
    "            # TODO: move outside of loop! --> Done!\n",
    "            r_nearest_neighbors = self.knn.get(r + 2)\n",
    "            if not r_nearest_neighbors:\n",
    "                r_nearest_neighbors = NearestNeighbors(n_neighbors=r + 2).fit(self.time_series)\n",
    "                self.knn[r + 2] = r_nearest_neighbors\n",
    "\n",
    "            distances, indices = r_nearest_neighbors.kneighbors(self.time_series)\n",
    "\n",
    "            # print(r + 1)\n",
    "            # print(indices)\n",
    "\n",
    "            nearest_neighbors_to_point = indices[point_index][1:]\n",
    "            # print(nearest_neighbors_to_point)\n",
    "            # print('##############')\n",
    "            for nn in nearest_neighbors_to_point:\n",
    "                if point_index in indices[nn][1:]:\n",
    "                    inn_set.add(nn)\n",
    "                else:\n",
    "                    # print(nn)\n",
    "                    # print(indices[nn][1:])\n",
    "                    # print('\\n\\n')\n",
    "                    finished = True\n",
    "                    break\n",
    "\n",
    "            if finished:\n",
    "                break\n",
    "\n",
    "        # print(inn_set)\n",
    "        return inn_set\n",
    "\n",
    "    def standardize_time_series(self):\n",
    "        return (self.time_series[:, 1] - self.time_series[:, 1].mean()) / self.time_series[:, 1].std()\n",
    "\n",
    "    def evaluate_scores(self):\n",
    "        for cp in self.candidate_scores:\n",
    "            scores = self.candidate_scores[cp]\n",
    "            # # Abnormal point\n",
    "            if scores[0] < self.k and scores[1] < self.c and scores[2] > self.v:\n",
    "                print(scores)\n",
    "\n",
    "    def perform_clustering(self, title='Yahoo'):\n",
    "        train_data = []\n",
    "        for point_index in self.candidate_scores:\n",
    "            scores = self.candidate_scores[point_index]\n",
    "            train_data.append([scores[0], scores[2]])\n",
    "\n",
    "        train_data = np.array(train_data)\n",
    "        gmm = GaussianMixture(n_components=2).fit(train_data)\n",
    "        labels = gmm.predict(train_data)\n",
    "\n",
    "        for label_index, point_index in enumerate(self.candidate_scores):\n",
    "            self.candidate_scores[point_index].append(labels[label_index])\n",
    "\n",
    "        data = pd.DataFrame({\n",
    "            'MS': train_data[:, 0],\n",
    "            'VS': train_data[:, 1],\n",
    "            'Category': labels\n",
    "        })\n",
    "\n",
    "#         print(data)\n",
    "\n",
    "        sns.lmplot(data=data, x='VS', y='MS', hue='Category',\n",
    "                   fit_reg=False, legend=True, legend_out=True)\n",
    "\n",
    "        plt.title(title)\n",
    "        plt.show()\n",
    "\n",
    "\n",
    "    def compute_best_accuracy(self, labels):\n",
    "        anomalies = set([i for i in range(len(labels)) if labels[i] == 1])\n",
    "        if len(anomalies) == 0:\n",
    "            return None\n",
    "\n",
    "        # Three clusters --> three keys\n",
    "        clustering_index = {\n",
    "            0: set(),\n",
    "            1: set(),\n",
    "            # 2: set()\n",
    "        }\n",
    "        for point_index, scores in self.candidate_scores.items():\n",
    "            clustering_index[scores[3]].add(point_index)\n",
    "            \n",
    "#         print(clustering_index)\n",
    "\n",
    "        max_precision = 0\n",
    "        max_recall = 0\n",
    "        for clustering, index in clustering_index.items():\n",
    "            precision = 1 - len(index - anomalies) / len(index)\n",
    "            recall = 1 - len(anomalies - index) / len(anomalies)\n",
    "            # if acc > max_acc:\n",
    "            if recall > max_recall:\n",
    "                max_precision = precision\n",
    "                max_recall = recall\n",
    "\n",
    "        # print('Precision: ', max_precision)\n",
    "        # print('Recall: ', max_recall)\n",
    "        # return max_precision, max_recall\n",
    "        if max_precision != 0 and max_recall != 0:\n",
    "            return (2 * max_precision * max_recall) / (max_precision + max_recall)\n",
    "        return 0\n"
   ]
  },
  {
   "cell_type": "code",
   "execution_count": null,
   "metadata": {},
   "outputs": [],
   "source": [
    "time_series = pd.read_csv(\n",
    "    '/home/szamani/PycharmProjects/anomaly-detection/dataset/Yahoo/real_42.csv',\n",
    "                              converters={\n",
    "                                  'timestamp': int,\n",
    "                                  'value': float\n",
    "                              })\n",
    "time_series = np.array(time_series.values)\n"
   ]
  },
  {
   "cell_type": "code",
   "execution_count": null,
   "metadata": {},
   "outputs": [],
   "source": [
    "time_series = pd.read_csv(\n",
    "    '/home/szamani/PycharmProjects/anomaly-detection/dataset/concepts/powers/anomaly/power_transform_anomaly.csv',\n",
    "                              converters={\n",
    "                                  'hour': int,\n",
    "                                  'supply': float\n",
    "                              })\n",
    "time_series = np.array(time_series.values)"
   ]
  },
  {
   "cell_type": "code",
   "execution_count": null,
   "metadata": {},
   "outputs": [],
   "source": [
    "time_series = pd.read_csv(\n",
    "    '/home/szamani/PycharmProjects/anomaly-detection/dataset/concepts/powers/anomaly/power_supply_anomaly_dense.csv',\n",
    "                              converters={\n",
    "                                  'hour': int,\n",
    "                                  'supply': float\n",
    "                              })\n",
    "time_series = np.array(time_series.values)"
   ]
  },
  {
   "cell_type": "code",
   "execution_count": null,
   "metadata": {},
   "outputs": [],
   "source": [
    "time_series = pd.read_csv(\n",
    "    '/home/szamani/PycharmProjects/anomaly-detection/dataset/concepts/powers/anomaly/power_transform_anomaly.csv',\n",
    "                              converters={\n",
    "                                  'hour': int,\n",
    "                                  'supply': float\n",
    "                              })\n",
    "time_series = np.array(time_series.values)"
   ]
  },
  {
   "cell_type": "code",
   "execution_count": null,
   "metadata": {},
   "outputs": [],
   "source": [
    "time_series = pd.read_csv(\n",
    "    '/home/szamani/PycharmProjects/anomaly-detection/dataset/concepts/powers/anomaly/power_transform_anomaly_dense.csv',\n",
    "                              converters={\n",
    "                                  'hour': int,\n",
    "                                  'supply': float\n",
    "                              })\n",
    "time_series = np.array(time_series.values)"
   ]
  },
  {
   "cell_type": "code",
   "execution_count": null,
   "metadata": {},
   "outputs": [],
   "source": [
    "time_series = pd.read_csv(\n",
    "    '/home/szamani/PycharmProjects/anomaly-detection/dataset/concepts/sensor/light_anomaly/53.csv',\n",
    "                              converters={\n",
    "                                  'time': int,\n",
    "                                  'light': float\n",
    "                              })\n",
    "time_series = np.array(time_series.values)"
   ]
  },
  {
   "cell_type": "code",
   "execution_count": null,
   "metadata": {},
   "outputs": [],
   "source": [
    "time_series = pd.read_csv(\n",
    "    '/home/szamani/PycharmProjects/anomaly-detection/dataset/concepts/sensor/light_anomaly_dense/53.csv',\n",
    "                              converters={\n",
    "                                  'time': int,\n",
    "                                  'light': float\n",
    "                              })\n",
    "time_series = np.array(time_series.values)"
   ]
  },
  {
   "cell_type": "code",
   "execution_count": 31,
   "metadata": {},
   "outputs": [],
   "source": [
    "time_series = pd.read_csv(\n",
    "    '/home/szamani/PycharmProjects/anomaly-detection/dataset/concepts/sensor/light_anomaly_skewed/1.csv',\n",
    "                              converters={\n",
    "                                  'time': int,\n",
    "                                  'light': float\n",
    "                              })\n",
    "time_series = np.array(time_series.values)"
   ]
  },
  {
   "cell_type": "code",
   "execution_count": 32,
   "metadata": {},
   "outputs": [],
   "source": [
    "ed = ErrorDetection(time_series)"
   ]
  },
  {
   "cell_type": "code",
   "execution_count": 33,
   "metadata": {},
   "outputs": [],
   "source": [
    "anomaly_score = ed.compute_anomaly_score(time_series[:, 1])\n",
    "mad = ed.compute_median_absolute_deviation(anomaly_score)\n",
    "candidate_points = [i for i in range(2, len(time_series)) if ed.compute_median_absolute_deviation(\n",
    "        time_series[i - 2:i + 1, 1]) > mad]"
   ]
  },
  {
   "cell_type": "code",
   "execution_count": null,
   "metadata": {},
   "outputs": [],
   "source": [
    "ed.compute_scores(candidate_points)"
   ]
  },
  {
   "cell_type": "code",
   "execution_count": 29,
   "metadata": {
    "scrolled": true
   },
   "outputs": [
    {
     "data": {
      "image/png": "[encoded data removed]",
      "text/plain": [
       "<Figure size 413.375x360 with 1 Axes>"
      ]
     },
     "metadata": {
      "needs_background": "light"
     },
     "output_type": "display_data"
    }
   ],
   "source": [
    "ed.perform_clustering()"
   ]
  },
  {
   "cell_type": "code",
   "execution_count": 30,
   "metadata": {},
   "outputs": [
    {
     "name": "stdout",
     "output_type": "stream",
     "text": [
      "0.009441384736428091\n"
     ]
    }
   ],
   "source": [
    "f1_score = ed.compute_best_accuracy(time_series[:, 2])\n",
    "print(f1_score)"
   ]
  },
  {
   "cell_type": "code",
   "execution_count": null,
   "metadata": {},
   "outputs": [],
   "source": [
    "print(ed.candidate_scores[826], ed.candidate_scores[827])"
   ]
  },
  {
   "cell_type": "code",
   "execution_count": null,
   "metadata": {},
   "outputs": [],
   "source": [
    "total_f1_score = 0\n",
    "total_examined = 56\n",
    "\n",
    "for i in range(1, 56):\n",
    "    try:\n",
    "        time_series = pd.read_csv(\n",
    "            '/home/szamani/PycharmProjects/anomaly-detection/dataset/concepts/sensor/light-anomaly/{}.csv'.format(i),\n",
    "            converters={\n",
    "                'time': int,\n",
    "                'light': float\n",
    "            })\n",
    "    except:\n",
    "        continue\n",
    "\n",
    "    # print(time_series.head(100))\n",
    "    time_series = np.array(time_series.values)\n",
    "\n",
    "    ed = ErrorDetection(time_series)\n",
    "\n",
    "    ed.compute_inn(time_series, 4)\n",
    "    ed.compute_inn(time_series, 515)\n",
    "    print(ed.standardize_time_series())\n",
    "\n",
    "    # in the paper\n",
    "    anomaly_score = ed.compute_anomaly_score(time_series[:, 1])\n",
    "    mad = ed.compute_median_absolute_deviation(anomaly_score)\n",
    "    candidate_points = [i for i in range(2, len(time_series)) if ed.compute_median_absolute_deviation(\n",
    "        time_series[i - 2:i + 1, 1]) > mad]\n",
    "\n",
    "    ed.compute_scores(candidate_points)\n",
    "\n",
    "    ed.evaluate_scores()\n",
    "\n",
    "    ed.perform_clustering()\n",
    "\n",
    "    f1_score = ed.compute_best_accuracy(time_series[:, 2])\n",
    "\n",
    "    if not f1_score:\n",
    "        total_examined -= 1\n",
    "        continue\n",
    "\n",
    "    total_f1_score += f1_score\n",
    "\n",
    "    break\n",
    "\n",
    "print(total_f1_score / total_examined)\n"
   ]
  }
 ],
 "metadata": {
  "kernelspec": {
   "display_name": "Python 3",
   "language": "python",
   "name": "python3"
  },
  "language_info": {
   "codemirror_mode": {
    "name": "ipython",
    "version": 3
   },
   "file_extension": ".py",
   "mimetype": "text/x-python",
   "name": "python",
   "nbconvert_exporter": "python",
   "pygments_lexer": "ipython3",
   "version": "3.8.10"
  },
  "pycharm": {
   "stem_cell": {
    "cell_type": "raw",
    "metadata": {
     "collapsed": false
    },
    "source": []
   }
  }
 },
 "nbformat": 4,
 "nbformat_minor": 4
}

{
 "cells": [
  {
   "cell_type": "code",
   "execution_count": null,
   "metadata": {},
   "outputs": [],
   "source": [
    "import pandas as pd\n",
    "import os\n",
    "import gc\n",
    "import numpy as np\n",
    "import seaborn as sns\n",
    "import matplotlib.pyplot as plt\n",
    "import matplotlib\n",
    "import matplotlib.style as style"
   ]
  },
  {
   "cell_type": "code",
   "execution_count": null,
   "metadata": {},
   "outputs": [],
   "source": [
    "sns.set_context('paper')\n",
    "matplotlib.rcParams['font.family'] = 'sans-serif'\n",
    "style.use('ggplot')\n",
    "plt.style.use('seaborn')"
   ]
  },
  {
   "cell_type": "code",
   "execution_count": null,
   "metadata": {},
   "outputs": [],
   "source": [
    "window_size = 100\n",
    "\n",
    "def calculate_derivatives(values):\n",
    "    timestamp = range(values.size)\n",
    "    dv = {'y_p': np.diff(values) / np.diff(timestamp),\n",
    "          'x_p': np.array((np.array(timestamp)[:-1] + np.array(timestamp)[1:]) / 2 + 0.5).astype(int)}\n",
    "    return pd.Series(list(np.insert(dv['y_p'], 0, 0, axis=0)))\n",
    "\n",
    "def calculate_second_derivatives(in_values):\n",
    "    values = calculate_derivatives(in_values)\n",
    "    timestamp = range(values.size)\n",
    "    dv = {'y_p': np.diff(values) / np.diff(timestamp),\n",
    "          'x_p': np.array((np.array(timestamp)[:-1] + np.array(timestamp)[1:]) / 2 + 0.5).astype(int)}\n",
    "    return pd.Series(list(np.insert(dv['y_p'], 0, 0, axis=0)))\n",
    "\n",
    "def calculate_rolling_mean(values, window_size=window_size):\n",
    "    res = values.rolling(window_size).mean()\n",
    "    res[:window_size] = 0\n",
    "    return res\n",
    "\n",
    "def calculate_rolling_variance(values, window_size=window_size):\n",
    "    res = values.rolling(window_size).var()\n",
    "    res[:window_size] = 0\n",
    "    return res\n",
    "\n",
    "def calculate_rolling_skewness(values, window_size=window_size):\n",
    "    res = values.rolling(window_size).skew()\n",
    "    res[:window_size] = 0\n",
    "    return res\n",
    "\n",
    "def calculate_rolling_kurtosis(values, window_size=window_size):\n",
    "    res = values.rolling(window_size).kurt()\n",
    "    res[:window_size] = 0\n",
    "    return res"
   ]
  },
  {
   "cell_type": "code",
   "execution_count": null,
   "metadata": {},
   "outputs": [],
   "source": [
    "feature_funcs = {\n",
    "    'First Derivative': calculate_derivatives,\n",
    "    'Second Derivative': calculate_second_derivatives,\n",
    "    'Rolling Mean': calculate_rolling_mean,\n",
    "    'Rolling Variance': calculate_rolling_variance,\n",
    "    'Rolling Skewness': calculate_rolling_skewness,\n",
    "    'Rolling Kurtosis': calculate_rolling_kurtosis,\n",
    "}"
   ]
  },
  {
   "cell_type": "markdown",
   "metadata": {},
   "source": [
    "## Yahoo"
   ]
  },
  {
   "cell_type": "code",
   "execution_count": null,
   "metadata": {},
   "outputs": [],
   "source": [
    "y_dataset_path = '/home/szamani/PycharmProjects/anomaly_detection/dataset/Yahoo'\n",
    "yahoo_file = 'real_{}.csv'\n",
    "yagoo_ind = [i for i in range(1, 68)]"
   ]
  },
  {
   "cell_type": "code",
   "execution_count": null,
   "metadata": {},
   "outputs": [],
   "source": [
    "all_yahoo_df = []\n",
    "for i in yagoo_ind:\n",
    "    try:\n",
    "        df = pd.read_csv(os.path.join(y_dataset_path, yahoo_file.format(i)))\n",
    "        all_yahoo_df.append(df)\n",
    "    except:\n",
    "        pass\n",
    "all_yahoo_df.sort(key=lambda x: x.shape[0])"
   ]
  },
  {
   "cell_type": "code",
   "execution_count": null,
   "metadata": {},
   "outputs": [],
   "source": [
    "print(all_yahoo_df[1])\n",
    "print(all_yahoo_df[1]['is_anomaly'].value_counts())\n",
    "print(all_yahoo_df[1]['value'].std())"
   ]
  },
  {
   "cell_type": "markdown",
   "metadata": {},
   "source": [
    "### Removing Zero Anomaly datasets"
   ]
  },
  {
   "cell_type": "code",
   "execution_count": null,
   "metadata": {},
   "outputs": [],
   "source": [
    "anomaly_count_df = pd.DataFrame([(df['is_anomaly'].sum() / df.shape[0]) * 100 for df in all_yahoo_df], columns=['anomaly_percentage'])\n",
    "anomaly_count_df = anomaly_count_df.reset_index()\n",
    "anomaly_count_df"
   ]
  },
  {
   "cell_type": "code",
   "execution_count": null,
   "metadata": {},
   "outputs": [],
   "source": [
    "anomaly_count_df[anomaly_count_df['anomaly_percentage'] == 0]"
   ]
  },
  {
   "cell_type": "code",
   "execution_count": null,
   "metadata": {},
   "outputs": [],
   "source": [
    "ind = 55\n",
    "plt.figure(figsize=(8,4))\n",
    "lp = sns.lineplot(\n",
    "            data=all_yahoo_df[ind],\n",
    "            x='timestamp', y='value',\n",
    "            palette=sns.color_palette(['lightcoral', 'lightskyblue', 'lightgreen', 'c']),\n",
    "        )\n",
    "\n",
    "plt.title('Anomaly-Free Yahoo! Dataset', weight='bold')\n",
    "plt.xlabel('Time', fontsize=12, weight='bold')\n",
    "plt.ylabel('Value', fontsize=12, weight='bold')\n",
    "\n",
    "anomalous = all_yahoo_df[ind][all_yahoo_df[ind]['is_anomaly'] == 1]\n",
    "print(anomalous.shape)\n",
    "\n",
    "plt.plot(anomalous['timestamp'], anomalous['value'],'ro')\n",
    "plt.xticks(fontsize=10, weight='bold')\n",
    "plt.yticks(fontsize=10, weight='bold')\n",
    "fig1 = plt.gcf()\n",
    "plt.show()\n",
    "plt.draw()\n",
    "# fig1.savefig('/home/szamani/Desktop/mcmaster/Thesis/figures/eda/yahoo/yahoo_clean_dataset.png', bbox_inches='tight')"
   ]
  },
  {
   "cell_type": "code",
   "execution_count": null,
   "metadata": {},
   "outputs": [],
   "source": [
    "no_anomaly_train = pd.DataFrame([(df.iloc[:int(df.shape[0] * .95)]['is_anomaly'].sum() / df.shape[0]) * 100 for df in all_yahoo_df], columns=['anomaly_train_section'])\n",
    "no_anomaly_train = no_anomaly_train.reset_index()\n",
    "no_anomaly_train = no_anomaly_train[no_anomaly_train['anomaly_train_section'] == 0]\n",
    "print(no_anomaly_train.shape)\n",
    "no_anomaly_train"
   ]
  },
  {
   "cell_type": "code",
   "execution_count": null,
   "metadata": {},
   "outputs": [],
   "source": [
    "ind = 30\n",
    "plt.figure(figsize=(8,4))\n",
    "lp = sns.lineplot(\n",
    "            data=all_yahoo_df[ind],\n",
    "            x='timestamp', y='value',\n",
    "            palette=sns.color_palette(['lightcoral', 'lightskyblue', 'lightgreen', 'c']),\n",
    "        )\n",
    "\n",
    "plt.title('Anomaly Imbalanced Yahoo! Dataset', weight='bold')\n",
    "plt.xlabel('Time', fontsize=12, weight='bold')\n",
    "plt.ylabel('Value', fontsize=12, weight='bold')\n",
    "\n",
    "anomalous = all_yahoo_df[ind][all_yahoo_df[ind]['is_anomaly'] == 1]\n",
    "print(anomalous.shape)\n",
    "\n",
    "plt.plot(anomalous['timestamp'], anomalous['value'],'ro')\n",
    "plt.xticks(fontsize=10, weight='bold')\n",
    "plt.yticks(fontsize=10, weight='bold')\n",
    "fig1 = plt.gcf()\n",
    "plt.show()\n",
    "plt.draw()\n",
    "# fig1.savefig('/home/szamani/Desktop/mcmaster/Thesis/figures/eda/yahoo/yahoo_unbalanced_dataset.png', bbox_inches='tight')"
   ]
  },
  {
   "cell_type": "code",
   "execution_count": null,
   "metadata": {},
   "outputs": [],
   "source": [
    "print(len(all_yahoo_df))\n",
    "for i in reversed(no_anomaly_train['index'].tolist()):\n",
    "    all_yahoo_df.pop(i)\n",
    "print(len(all_yahoo_df))"
   ]
  },
  {
   "cell_type": "markdown",
   "metadata": {},
   "source": [
    "### Anomaly Percentage Analysis"
   ]
  },
  {
   "cell_type": "code",
   "execution_count": null,
   "metadata": {},
   "outputs": [],
   "source": [
    "anomaly_count_df = pd.DataFrame([(df['is_anomaly'].sum() / df.shape[0]) * 100 for df in all_yahoo_df], columns=['anomaly_percentage'])\n",
    "anomaly_count_df = anomaly_count_df.reset_index()\n",
    "anomaly_count_df"
   ]
  },
  {
   "cell_type": "code",
   "execution_count": null,
   "metadata": {},
   "outputs": [],
   "source": [
    "plt.figure(figsize=(10,4))\n",
    "lp = sns.lineplot(\n",
    "            data=anomaly_count_df,\n",
    "            x='index', y='anomaly_percentage',\n",
    "            palette=sns.color_palette(['lightcoral', 'lightskyblue', 'lightgreen', 'c']),\n",
    "        )\n",
    "\n",
    "plt.title('Yahoo! Datasets Anomaly Percentage Distribution', weight='bold')\n",
    "print('Anomaly Percentage of Time Series Average: {}%'.format(str(anomaly_count_df['anomaly_percentage'].mean())[:4]))\n",
    "plt.xlabel('Time Series', fontsize=12, weight='bold')\n",
    "plt.ylabel('Anomaly Percentage', fontsize=12, weight='bold')\n",
    "plt.xticks(fontsize=10, weight='bold')\n",
    "plt.yticks(fontsize=10, weight='bold')\n",
    "\n",
    "fig1 = plt.gcf()\n",
    "plt.show()\n",
    "plt.draw()\n",
    "# fig1.savefig('/home/szamani/Desktop/mcmaster/Thesis/figures/eda/yahoo/yahoo_anomaly_percentage.png', bbox_inches='tight')"
   ]
  },
  {
   "cell_type": "markdown",
   "metadata": {},
   "source": [
    "### Time Series Length Analysis"
   ]
  },
  {
   "cell_type": "code",
   "execution_count": null,
   "metadata": {},
   "outputs": [],
   "source": [
    "len_df = pd.DataFrame.from_dict({'len': [df.shape[0] for df in all_yahoo_df]})\n",
    "len_df.head()"
   ]
  },
  {
   "cell_type": "code",
   "execution_count": null,
   "metadata": {},
   "outputs": [],
   "source": [
    "yahoo_len_df = len_df.groupby(['len'])['len'].agg(['count']).reset_index()\n",
    "yahoo_len_df = yahoo_len_df.sort_values(by=['count'])\n",
    "print(yahoo_len_df)"
   ]
  },
  {
   "cell_type": "code",
   "execution_count": null,
   "metadata": {},
   "outputs": [],
   "source": [
    "plt.figure(figsize=(8, 5))\n",
    "sns.barplot(data=yahoo_len_df, x=\"len\", y=\"count\",\n",
    "           palette=sns.color_palette(\"colorblind\"))\n",
    "plt.title('Yahoo! Datasets Length Distribution', weight='bold')\n",
    "plt.xlabel('Length', fontsize=12, weight='bold')\n",
    "plt.ylabel('Count', fontsize=12, weight='bold')\n",
    "plt.xticks(fontsize=10, weight='bold')\n",
    "plt.yticks(fontsize=10, weight='bold')\n",
    "\n",
    "fig1 = plt.gcf()\n",
    "plt.show()\n",
    "plt.draw()\n",
    "# fig1.savefig('/home/szamani/Desktop/mcmaster/Thesis/figures/eda/yahoo/yahoo_length_distro.png', bbox_inches='tight')"
   ]
  },
  {
   "cell_type": "markdown",
   "metadata": {},
   "source": [
    "### Time Series Plot"
   ]
  },
  {
   "cell_type": "code",
   "execution_count": null,
   "metadata": {},
   "outputs": [],
   "source": [
    "plt.figure(figsize=(10,4))\n",
    "lp = sns.lineplot(\n",
    "            data=all_yahoo_df[-1],\n",
    "            x='timestamp', y='value',\n",
    "            palette=sns.color_palette(['lightcoral', 'lightskyblue', 'lightgreen', 'c']),\n",
    "        )\n",
    "\n",
    "plt.title('Sample Yahoo! Dataset', weight='bold')\n",
    "plt.xlabel('Time', fontsize=12, weight='bold')\n",
    "plt.ylabel('Value', fontsize=12, weight='bold')\n",
    "\n",
    "anomalous = all_yahoo_df[-1][all_yahoo_df[-1]['is_anomaly'] == 1]\n",
    "\n",
    "plt.plot(anomalous['timestamp'], anomalous['value'],'ro')\n",
    "plt.xticks(fontsize=10, weight='bold')\n",
    "plt.yticks(fontsize=10, weight='bold')\n",
    "fig1 = plt.gcf()\n",
    "plt.show()\n",
    "plt.draw()\n",
    "# fig1.savefig('/home/szamani/Desktop/mcmaster/Thesis/figures/eda/yahoo/yahoo_long_anomaly.png', bbox_inches='tight')"
   ]
  },
  {
   "cell_type": "code",
   "execution_count": null,
   "metadata": {},
   "outputs": [],
   "source": [
    "plt.figure(figsize=(5,3))\n",
    "lp = sns.lineplot(\n",
    "            data=all_yahoo_df[-1].iloc[400:500, ],\n",
    "            x='timestamp', y='value',\n",
    "            palette=sns.color_palette(['lightcoral', 'lightskyblue', 'lightgreen', 'c']),\n",
    "        )\n",
    "\n",
    "plt.title('Anomalies Zoomed in', weight='bold')\n",
    "plt.xlabel('Time', fontsize=12, weight='bold')\n",
    "plt.ylabel('Value', fontsize=12, weight='bold')\n",
    "\n",
    "anomalous = all_yahoo_df[-1].iloc[400:500, ][all_yahoo_df[-1].iloc[400:500, ]['is_anomaly'] == 1]\n",
    "\n",
    "plt.plot(anomalous['timestamp'], anomalous['value'],'ro')\n",
    "plt.xticks(fontsize=10, weight='bold')\n",
    "plt.yticks(fontsize=10, weight='bold')\n",
    "fig1 = plt.gcf()\n",
    "plt.show()\n",
    "plt.draw()\n",
    "# fig1.savefig('/home/szamani/Desktop/mcmaster/Thesis/figures/eda/yahoo/yahoo_anomaly_zoom.png', bbox_inches='tight')"
   ]
  },
  {
   "cell_type": "markdown",
   "metadata": {},
   "source": [
    "### Feature Analysis"
   ]
  },
  {
   "cell_type": "code",
   "execution_count": null,
   "metadata": {},
   "outputs": [],
   "source": [
    "yahoo_df = all_yahoo_df[36]  # 0 and 36 selected\n",
    "\n",
    "values = {'Value': yahoo_df.iloc[100:]['value']}\n",
    "for feature, function in feature_funcs.items():\n",
    "    values[feature] = function(yahoo_df['value']).iloc[100:]\n",
    "\n",
    "select_yahoo_features = pd.DataFrame.from_dict(values)\n",
    "# select_yahoo_features"
   ]
  },
  {
   "cell_type": "code",
   "execution_count": null,
   "metadata": {},
   "outputs": [],
   "source": [
    "feature_corr = select_yahoo_features.corr()\n",
    "# feature_corr"
   ]
  },
  {
   "cell_type": "code",
   "execution_count": null,
   "metadata": {},
   "outputs": [],
   "source": [
    "mask = np.zeros_like(feature_corr, dtype=bool)\n",
    "mask[np.triu_indices_from(mask)] = True\n",
    "feature_corr[mask] = np.nan\n",
    "# feature_corr"
   ]
  },
  {
   "cell_type": "code",
   "execution_count": null,
   "metadata": {},
   "outputs": [],
   "source": [
    "ax = sns.heatmap(\n",
    "    feature_corr, \n",
    "    vmin=-1, vmax=1, center=0,\n",
    "    cmap=sns.diverging_palette(20, 220, n=200),\n",
    "    square=True,\n",
    ")\n",
    "ax.set_xticklabels(\n",
    "    ax.get_xticklabels(),\n",
    "    rotation=45,\n",
    "    horizontalalignment='right'\n",
    ")\n",
    "# plt.title('Feature Correlation', weight='bold')\n",
    "plt.xticks(fontsize=10, weight='bold')\n",
    "plt.yticks(fontsize=10, weight='bold')\n",
    "fig1 = plt.gcf()\n",
    "plt.show()\n",
    "plt.draw()\n",
    "# fig1.savefig('/home/szamani/Desktop/mcmaster/Thesis/figures/eda/yahoo/yahoo_feature_corr2.png', bbox_inches='tight')"
   ]
  },
  {
   "cell_type": "markdown",
   "metadata": {},
   "source": [
    "# Concept Datasets"
   ]
  },
  {
   "cell_type": "code",
   "execution_count": null,
   "metadata": {},
   "outputs": [],
   "source": [
    "dataset_path = '/home/szamani/PycharmProjects/anomaly_detection/dataset/concepts'\n",
    "power_dir = 'powers'\n",
    "light_dir = 'sensor/light'\n",
    "\n",
    "power_supply = 'power_supply.csv'\n",
    "# power_transform = 'power_transform.csv'\n",
    "light_sensor = ['{}.csv'.format(i) for i in range(1, 59)]"
   ]
  },
  {
   "cell_type": "code",
   "execution_count": null,
   "metadata": {},
   "outputs": [],
   "source": [
    "power_df = pd.read_csv(os.path.join(dataset_path, power_dir, power_supply))\n",
    "power_df"
   ]
  },
  {
   "cell_type": "code",
   "execution_count": null,
   "metadata": {},
   "outputs": [],
   "source": [
    "power_df['day'] = power_df['hour'].apply(lambda x: int(x/24) + 1)\n",
    "power_df"
   ]
  },
  {
   "cell_type": "code",
   "execution_count": null,
   "metadata": {},
   "outputs": [],
   "source": [
    "plt.figure(figsize=(20,7))\n",
    "lp = sns.lineplot(\n",
    "            data=power_df,\n",
    "            x='hour', y='supply',\n",
    "            palette=sns.color_palette(['lightcoral', 'lightskyblue', 'lightgreen', 'c']),\n",
    "        )\n",
    "\n",
    "plt.title('Power Dataset Time Series', fontsize=15, weight='bold')\n",
    "plt.xlabel('Hour', fontsize=15, weight='bold')\n",
    "plt.ylabel('Power Supply', fontsize=15, weight='bold')\n",
    "plt.xticks(fontsize=12, weight='bold')\n",
    "plt.yticks(fontsize=12, weight='bold')\n",
    "fig1 = plt.gcf()\n",
    "plt.show()\n",
    "plt.draw()\n",
    "# fig1.savefig('/home/szamani/Desktop/mcmaster/Thesis/figures/eda/power/power_data.png', bbox_inches='tight', dpi=500)"
   ]
  },
  {
   "cell_type": "code",
   "execution_count": null,
   "metadata": {},
   "outputs": [],
   "source": [
    "plt.figure(figsize=(20,7))\n",
    "lp = sns.lineplot(\n",
    "            data=power_df.iloc[:744,],\n",
    "            x='hour', y='supply',\n",
    "            palette=sns.color_palette(['lightcoral', 'lightskyblue', 'lightgreen', 'c']),\n",
    "        )\n",
    "\n",
    "plt.title('Power Dataset Time Series (One-Month Period)', fontsize=15, weight='bold')\n",
    "plt.xlabel('Hour', fontsize=15, weight='bold')\n",
    "plt.ylabel('Power Supply', fontsize=15, weight='bold')\n",
    "plt.xticks(fontsize=12, weight='bold')\n",
    "plt.yticks(fontsize=12, weight='bold')\n",
    "fig1 = plt.gcf()\n",
    "plt.show()\n",
    "plt.draw()\n",
    "# fig1.savefig('/home/szamani/Desktop/mcmaster/Thesis/figures/eda/power/power_month_period.png', bbox_inches='tight')"
   ]
  },
  {
   "cell_type": "code",
   "execution_count": null,
   "metadata": {},
   "outputs": [],
   "source": [
    "plt.figure(figsize=(20,7))\n",
    "lp = sns.lineplot(\n",
    "            data=power_df.iloc[:8760,],\n",
    "            x='hour', y='supply',\n",
    "            palette=sns.color_palette(['lightcoral', 'lightskyblue', 'lightgreen', 'c']),\n",
    "        )\n",
    "\n",
    "plt.title('Power Dataset Time Series (One-Year Period)', fontsize=15, weight='bold')\n",
    "plt.xlabel('Hour', fontsize=15, weight='bold')\n",
    "plt.ylabel('Power Supply', fontsize=15, weight='bold')\n",
    "plt.xticks(fontsize=12, weight='bold')\n",
    "plt.yticks(fontsize=12, weight='bold')\n",
    "fig1 = plt.gcf()\n",
    "plt.show()\n",
    "plt.draw()\n",
    "# fig1.savefig('/home/szamani/Desktop/mcmaster/Thesis/figures/eda/power/power_year_period.png', bbox_inches='tight')"
   ]
  },
  {
   "cell_type": "code",
   "execution_count": null,
   "metadata": {},
   "outputs": [],
   "source": [
    "power_daily_avg = power_df.groupby(['day'])['supply'].mean().reset_index()\n",
    "power_daily_avg"
   ]
  },
  {
   "cell_type": "code",
   "execution_count": null,
   "metadata": {},
   "outputs": [],
   "source": [
    "plt.figure(figsize=(20,7))\n",
    "lp = sns.lineplot(\n",
    "            data=power_daily_avg,\n",
    "            x='day', y='supply',\n",
    "            palette=sns.color_palette(['lightcoral', 'lightskyblue', 'lightgreen', 'c']),\n",
    "        )\n",
    "\n",
    "plt.title('Power Dataset Time Series (Daily Average)', fontsize=15, weight='bold')\n",
    "plt.xlabel('Day', fontsize=15, weight='bold')\n",
    "plt.ylabel('Daily Average Power Supply', fontsize=15, weight='bold')\n",
    "plt.xticks(fontsize=12, weight='bold')\n",
    "plt.yticks(fontsize=12, weight='bold')\n",
    "fig1 = plt.gcf()\n",
    "plt.show()\n",
    "plt.draw()\n",
    "# fig1.savefig('/home/szamani/Desktop/mcmaster/Thesis/figures/eda/power/power_daily_average.png', bbox_inches='tight')"
   ]
  },
  {
   "cell_type": "markdown",
   "metadata": {},
   "source": [
    "### Feature Analysis"
   ]
  },
  {
   "cell_type": "code",
   "execution_count": null,
   "metadata": {},
   "outputs": [],
   "source": [
    "values = {'Value': power_df.iloc[100:]['supply']}\n",
    "for feature, function in feature_funcs.items():\n",
    "    values[feature] = function(power_df['supply']).iloc[100:]\n",
    "\n",
    "power_features = pd.DataFrame.from_dict(values)\n",
    "power_features"
   ]
  },
  {
   "cell_type": "code",
   "execution_count": null,
   "metadata": {},
   "outputs": [],
   "source": [
    "feature_corr = power_features.corr()\n",
    "feature_corr"
   ]
  },
  {
   "cell_type": "code",
   "execution_count": null,
   "metadata": {},
   "outputs": [],
   "source": [
    "mask = np.zeros_like(feature_corr, dtype=bool)\n",
    "mask[np.triu_indices_from(mask)] = True\n",
    "feature_corr[mask] = np.nan\n",
    "feature_corr"
   ]
  },
  {
   "cell_type": "code",
   "execution_count": null,
   "metadata": {},
   "outputs": [],
   "source": [
    "ax = sns.heatmap(\n",
    "    feature_corr, \n",
    "    vmin=-1, vmax=1, center=0,\n",
    "    cmap=sns.diverging_palette(20, 220, n=200),\n",
    "    square=True,\n",
    ")\n",
    "ax.set_xticklabels(\n",
    "    ax.get_xticklabels(),\n",
    "    rotation=45,\n",
    "    horizontalalignment='right'\n",
    ")\n",
    "# plt.title('Feature Correlation', weight='bold')\n",
    "plt.xticks(fontsize=10, weight='bold')\n",
    "plt.yticks(fontsize=10, weight='bold')\n",
    "fig1 = plt.gcf()\n",
    "plt.show()\n",
    "plt.draw()\n",
    "# fig1.savefig('/home/szamani/Desktop/mcmaster/Thesis/figures/eda/power/power_feature_corr.png', bbox_inches='tight')"
   ]
  },
  {
   "cell_type": "code",
   "execution_count": null,
   "metadata": {},
   "outputs": [],
   "source": [
    "all_light_df = []\n",
    "for i in light_sensor:\n",
    "    try:\n",
    "        df = pd.read_csv(os.path.join(dataset_path, light_dir, i))\n",
    "        all_light_df.append(df)\n",
    "    except:\n",
    "        pass\n",
    "all_light_df.sort(key=lambda x: x.shape[0])\n",
    "len_df = pd.DataFrame.from_dict({'len': [df.shape[0] for df in all_light_df]})\n",
    "print(len(all_light_df))\n",
    "# len_df"
   ]
  },
  {
   "cell_type": "code",
   "execution_count": null,
   "metadata": {},
   "outputs": [],
   "source": [
    "all_light_df[0]"
   ]
  },
  {
   "cell_type": "markdown",
   "metadata": {},
   "source": [
    "### Time Series Length Analysis"
   ]
  },
  {
   "cell_type": "code",
   "execution_count": null,
   "metadata": {},
   "outputs": [],
   "source": [
    "len_df = pd.DataFrame.from_dict({'len': [df.shape[0] for df in all_light_df]})\n",
    "print(len_df.head(5))\n",
    "print(len_df.tail(5))\n",
    "# len_df"
   ]
  },
  {
   "cell_type": "code",
   "execution_count": null,
   "metadata": {},
   "outputs": [],
   "source": [
    "light_range_df = len_df.groupby(pd.cut(len_df['len'], np.arange(0, 80000, 10000))).count()\n",
    "light_range_df.index.names = ['Length_Range']\n",
    "light_range_df = light_range_df.reset_index()\n",
    "light_range_df"
   ]
  },
  {
   "cell_type": "code",
   "execution_count": null,
   "metadata": {},
   "outputs": [],
   "source": [
    "plt.figure(figsize=(11, 5))\n",
    "sns.barplot(data=light_range_df, x=\"Length_Range\", y=\"len\",\n",
    "           palette=sns.color_palette(\"colorblind\"))\n",
    "plt.title('Light Datasets Length Range Distribution', weight='bold')\n",
    "plt.xlabel('Length Range', fontsize=12, weight='bold')\n",
    "plt.ylabel('Count', fontsize=12, weight='bold')\n",
    "plt.xticks(fontsize=10, weight='bold')\n",
    "plt.yticks(fontsize=10, weight='bold')\n",
    "fig1 = plt.gcf()\n",
    "plt.show()\n",
    "plt.draw()\n",
    "# fig1.savefig('/home/szamani/Desktop/mcmaster/Thesis/figures/eda/light/light_length_distro.png', bbox_inches='tight')"
   ]
  },
  {
   "cell_type": "markdown",
   "metadata": {},
   "source": [
    "### Time Series Plot"
   ]
  },
  {
   "cell_type": "code",
   "execution_count": null,
   "metadata": {},
   "outputs": [],
   "source": [
    "print(all_light_df[0].shape)\n",
    "\n",
    "plt.figure(figsize=(15,7))\n",
    "lp = sns.lineplot(\n",
    "            data=all_light_df[0],\n",
    "            x='time', y='light',\n",
    "            palette=sns.color_palette(['lightcoral', 'lightskyblue', 'lightgreen', 'c']),\n",
    "        )\n",
    "\n",
    "plt.title('Light Dataset Time Series (Short)', fontsize=15, weight='bold')\n",
    "plt.xlabel('Time', fontsize=15, weight='bold')\n",
    "plt.ylabel('Light', fontsize=15, weight='bold')\n",
    "plt.xticks(fontsize=12, weight='bold')\n",
    "plt.yticks(fontsize=12, weight='bold')\n",
    "fig1 = plt.gcf()\n",
    "plt.show()\n",
    "plt.draw()\n",
    "# fig1.savefig('/home/szamani/Desktop/mcmaster/Thesis/figures/eda/light/light_short_data.png', bbox_inches='tight')"
   ]
  },
  {
   "cell_type": "code",
   "execution_count": null,
   "metadata": {},
   "outputs": [],
   "source": [
    "print(all_light_df[13].shape)\n",
    "\n",
    "plt.figure(figsize=(17,7))\n",
    "lp = sns.lineplot(\n",
    "            data=all_light_df[13],\n",
    "            x='time', y='light',\n",
    "            palette=sns.color_palette(['lightcoral', 'lightskyblue', 'lightgreen', 'c']),\n",
    "        )\n",
    "\n",
    "plt.title('Light Dataset Time Series (Medium)', fontsize=15, weight='bold')\n",
    "plt.xlabel('Time', fontsize=15, weight='bold')\n",
    "plt.ylabel('Light', fontsize=15, weight='bold')\n",
    "plt.xticks(fontsize=12, weight='bold')\n",
    "plt.yticks(fontsize=12, weight='bold')\n",
    "fig1 = plt.gcf()\n",
    "plt.show()\n",
    "plt.draw()\n",
    "# fig1.savefig('/home/szamani/Desktop/mcmaster/Thesis/figures/eda/light/light_medium_data.png', bbox_inches='tight')"
   ]
  },
  {
   "cell_type": "code",
   "execution_count": null,
   "metadata": {},
   "outputs": [],
   "source": [
    "print(all_light_df[-1].shape)\n",
    "\n",
    "plt.figure(figsize=(20,7))\n",
    "lp = sns.lineplot(\n",
    "            data=all_light_df[-1],\n",
    "            x='time', y='light',\n",
    "            palette=sns.color_palette(['lightcoral', 'lightskyblue', 'lightgreen', 'c']),\n",
    "        )\n",
    "\n",
    "plt.title('Light Dataset Time Series (Long)', fontsize=15, weight='bold')\n",
    "plt.xlabel('Time', fontsize=15, weight='bold')\n",
    "plt.ylabel('Light', fontsize=15, weight='bold')\n",
    "plt.xticks(fontsize=12, weight='bold')\n",
    "plt.yticks(fontsize=12, weight='bold')\n",
    "fig1 = plt.gcf()\n",
    "plt.show()\n",
    "plt.draw()\n",
    "# fig1.savefig('/home/szamani/Desktop/mcmaster/Thesis/figures/eda/light/light_long_data.png', bbox_inches='tight')"
   ]
  },
  {
   "cell_type": "markdown",
   "metadata": {},
   "source": [
    "**Given that light sensor data recording is not regular and could be every 1-3 minutes, we cannot have an accurate daily average or one-week period plots (unlike power supply dataset which is recorded every hour)**"
   ]
  },
  {
   "cell_type": "markdown",
   "metadata": {},
   "source": [
    "### Feature Analysis"
   ]
  },
  {
   "cell_type": "code",
   "execution_count": null,
   "metadata": {},
   "outputs": [],
   "source": [
    "light_df = all_light_df[45]  # 3 and 45 selected\n",
    "\n",
    "values = {'Value': light_df.iloc[100:]['light']}\n",
    "for feature, function in feature_funcs.items():\n",
    "    values[feature] = function(light_df['light']).iloc[100:]\n",
    "\n",
    "select_light_features = pd.DataFrame.from_dict(values)\n",
    "# select_light_features"
   ]
  },
  {
   "cell_type": "code",
   "execution_count": null,
   "metadata": {},
   "outputs": [],
   "source": [
    "feature_corr = select_light_features.corr()\n",
    "# feature_corr"
   ]
  },
  {
   "cell_type": "code",
   "execution_count": null,
   "metadata": {},
   "outputs": [],
   "source": [
    "mask = np.zeros_like(feature_corr, dtype=bool)\n",
    "mask[np.triu_indices_from(mask)] = True\n",
    "feature_corr[mask] = np.nan\n",
    "# feature_corr"
   ]
  },
  {
   "cell_type": "code",
   "execution_count": null,
   "metadata": {},
   "outputs": [],
   "source": [
    "ax = sns.heatmap(\n",
    "    feature_corr, \n",
    "    vmin=-1, vmax=1, center=0,\n",
    "    cmap=sns.diverging_palette(20, 220, n=200),\n",
    "    square=True,\n",
    ")\n",
    "ax.set_xticklabels(\n",
    "    ax.get_xticklabels(),\n",
    "    rotation=45,\n",
    "    horizontalalignment='right'\n",
    ")\n",
    "# plt.title('Feature Correlation', weight='bold')\n",
    "plt.xticks(fontsize=10, weight='bold')\n",
    "plt.yticks(fontsize=10, weight='bold')\n",
    "fig1 = plt.gcf()\n",
    "plt.show()\n",
    "plt.draw()\n",
    "# fig1.savefig('/home/szamani/Desktop/mcmaster/Thesis/figures/eda/light/light_feature_corr2.png', bbox_inches='tight')"
   ]
  },
  {
   "cell_type": "code",
   "execution_count": null,
   "metadata": {},
   "outputs": [],
   "source": []
  },
  {
   "cell_type": "code",
   "execution_count": null,
   "metadata": {},
   "outputs": [],
   "source": [
    "moa_df = pd.read_csv(os.path.join(dataset_path, moa_dir, moa_files[0]))\n",
    "moa_df"
   ]
  },
  {
   "cell_type": "code",
   "execution_count": null,
   "metadata": {},
   "outputs": [],
   "source": [
    "plt.figure(figsize=(20,7))\n",
    "lp = sns.lineplot(\n",
    "            data=moa_df,\n",
    "            x='time', y='value',\n",
    "            palette=sns.color_palette(['lightcoral', 'lightskyblue', 'lightgreen', 'c']),\n",
    "        )\n",
    "\n",
    "plt.xlabel('Time', fontsize=15, weight='bold')\n",
    "plt.ylabel('Value', fontsize=15, weight='bold')\n",
    "plt.xticks(fontsize=12, weight='bold')\n",
    "plt.yticks(fontsize=12, weight='bold')\n",
    "fig1 = plt.gcf()\n",
    "plt.show()\n",
    "plt.draw()\n",
    "# fig1.savefig('/home/szamani/Desktop/mcmaster/Thesis/figures/eda/moa/moa_abrupt.png', bbox_inches='tight', dpi=500)"
   ]
  },
  {
   "cell_type": "markdown",
   "metadata": {},
   "source": [
    "### Feature Analysis"
   ]
  },
  {
   "cell_type": "code",
   "execution_count": null,
   "metadata": {},
   "outputs": [],
   "source": [
    "values = {'Value': moa_df.iloc[100:]['value']}\n",
    "for feature, function in feature_funcs.items():\n",
    "    values[feature] = function(moa_df['value']).iloc[100:]\n",
    "\n",
    "moa_features = pd.DataFrame.from_dict(values)\n",
    "moa_features"
   ]
  },
  {
   "cell_type": "code",
   "execution_count": null,
   "metadata": {},
   "outputs": [],
   "source": [
    "feature_corr = moa_features.corr()\n",
    "feature_corr"
   ]
  },
  {
   "cell_type": "code",
   "execution_count": null,
   "metadata": {},
   "outputs": [],
   "source": [
    "mask = np.zeros_like(feature_corr, dtype=bool)\n",
    "mask[np.triu_indices_from(mask)] = True\n",
    "feature_corr[mask] = np.nan\n",
    "feature_corr"
   ]
  },
  {
   "cell_type": "code",
   "execution_count": null,
   "metadata": {},
   "outputs": [],
   "source": [
    "ax = sns.heatmap(\n",
    "    feature_corr, \n",
    "    vmin=-1, vmax=1, center=0,\n",
    "    cmap=sns.diverging_palette(20, 220, n=200),\n",
    "    square=True,\n",
    ")\n",
    "ax.set_xticklabels(\n",
    "    ax.get_xticklabels(),\n",
    "    rotation=45,\n",
    "    horizontalalignment='right'\n",
    ")\n",
    "plt.xticks(fontsize=10, weight='bold')\n",
    "plt.yticks(fontsize=10, weight='bold')\n",
    "fig1 = plt.gcf()\n",
    "plt.show()\n",
    "plt.draw()\n",
    "# fig1.savefig('/home/szamani/Desktop/mcmaster/Thesis/figures/eda/moa/moa_abrupt_feature_corr.png', bbox_inches='tight')"
   ]
  },
  {
   "cell_type": "code",
   "execution_count": null,
   "metadata": {},
   "outputs": [],
   "source": [
    "moa_df = pd.read_csv(os.path.join(dataset_path, moa_dir, moa_files[1]))\n",
    "moa_df"
   ]
  },
  {
   "cell_type": "code",
   "execution_count": null,
   "metadata": {},
   "outputs": [],
   "source": [
    "plt.figure(figsize=(20,7))\n",
    "lp = sns.lineplot(\n",
    "            data=moa_df,\n",
    "            x='time', y='value',\n",
    "            palette=sns.color_palette(['lightcoral', 'lightskyblue', 'lightgreen', 'c']),\n",
    "        )\n",
    "\n",
    "plt.xlabel('Time', fontsize=15, weight='bold')\n",
    "plt.ylabel('Value', fontsize=15, weight='bold')\n",
    "plt.xticks(fontsize=12, weight='bold')\n",
    "plt.yticks(fontsize=12, weight='bold')\n",
    "fig1 = plt.gcf()\n",
    "plt.show()\n",
    "plt.draw()\n",
    "# fig1.savefig('/home/szamani/Desktop/mcmaster/Thesis/figures/eda/moa/moa_gradual.png', bbox_inches='tight', dpi=500)"
   ]
  },
  {
   "cell_type": "markdown",
   "metadata": {},
   "source": [
    "### Feature Analysis"
   ]
  },
  {
   "cell_type": "code",
   "execution_count": null,
   "metadata": {},
   "outputs": [],
   "source": [
    "values = {'Value': moa_df.iloc[100:]['value']}\n",
    "for feature, function in feature_funcs.items():\n",
    "    values[feature] = function(moa_df['value']).iloc[100:]\n",
    "\n",
    "moa_features = pd.DataFrame.from_dict(values)\n",
    "moa_features"
   ]
  },
  {
   "cell_type": "code",
   "execution_count": null,
   "metadata": {},
   "outputs": [],
   "source": [
    "feature_corr = moa_features.corr()\n",
    "feature_corr"
   ]
  },
  {
   "cell_type": "code",
   "execution_count": null,
   "metadata": {},
   "outputs": [],
   "source": [
    "mask = np.zeros_like(feature_corr, dtype=bool)\n",
    "mask[np.triu_indices_from(mask)] = True\n",
    "feature_corr[mask] = np.nan\n",
    "feature_corr"
   ]
  },
  {
   "cell_type": "code",
   "execution_count": null,
   "metadata": {},
   "outputs": [],
   "source": [
    "ax = sns.heatmap(\n",
    "    feature_corr, \n",
    "    vmin=-1, vmax=1, center=0,\n",
    "    cmap=sns.diverging_palette(20, 220, n=200),\n",
    "    square=True,\n",
    ")\n",
    "ax.set_xticklabels(\n",
    "    ax.get_xticklabels(),\n",
    "    rotation=45,\n",
    "    horizontalalignment='right'\n",
    ")\n",
    "plt.xticks(fontsize=10, weight='bold')\n",
    "plt.yticks(fontsize=10, weight='bold')\n",
    "fig1 = plt.gcf()\n",
    "plt.show()\n",
    "plt.draw()\n",
    "# fig1.savefig('/home/szamani/Desktop/mcmaster/Thesis/figures/eda/moa/moa_gradual_feature_corr.png', bbox_inches='tight')"
   ]
  },
  {
   "cell_type": "code",
   "execution_count": null,
   "metadata": {},
   "outputs": [],
   "source": [
    "moa_df = pd.read_csv(os.path.join(dataset_path, moa_dir, moa_files[2]))\n",
    "moa_df"
   ]
  },
  {
   "cell_type": "code",
   "execution_count": null,
   "metadata": {},
   "outputs": [],
   "source": [
    "plt.figure(figsize=(20,7))\n",
    "lp = sns.lineplot(\n",
    "            data=moa_df,\n",
    "            x='time', y='value',\n",
    "            palette=sns.color_palette(['lightcoral', 'lightskyblue', 'lightgreen', 'c']),\n",
    "        )\n",
    "\n",
    "plt.xlabel('Time', fontsize=15, weight='bold')\n",
    "plt.ylabel('Value', fontsize=15, weight='bold')\n",
    "plt.xticks(fontsize=12, weight='bold')\n",
    "plt.yticks(fontsize=12, weight='bold')\n",
    "fig1 = plt.gcf()\n",
    "plt.show()\n",
    "plt.draw()\n",
    "# fig1.savefig('/home/szamani/Desktop/mcmaster/Thesis/figures/eda/moa/moa_incremental.png', bbox_inches='tight', dpi=500)"
   ]
  },
  {
   "cell_type": "markdown",
   "metadata": {},
   "source": [
    "### Feature Analysis"
   ]
  },
  {
   "cell_type": "code",
   "execution_count": null,
   "metadata": {},
   "outputs": [],
   "source": [
    "values = {'Value': moa_df.iloc[100:]['value']}\n",
    "for feature, function in feature_funcs.items():\n",
    "    values[feature] = function(moa_df['value']).iloc[100:]\n",
    "\n",
    "moa_features = pd.DataFrame.from_dict(values)\n",
    "moa_features"
   ]
  },
  {
   "cell_type": "code",
   "execution_count": null,
   "metadata": {},
   "outputs": [],
   "source": [
    "feature_corr = moa_features.corr()\n",
    "feature_corr"
   ]
  },
  {
   "cell_type": "code",
   "execution_count": null,
   "metadata": {},
   "outputs": [],
   "source": [
    "mask = np.zeros_like(feature_corr, dtype=bool)\n",
    "mask[np.triu_indices_from(mask)] = True\n",
    "feature_corr[mask] = np.nan\n",
    "feature_corr"
   ]
  },
  {
   "cell_type": "code",
   "execution_count": null,
   "metadata": {},
   "outputs": [],
   "source": [
    "ax = sns.heatmap(\n",
    "    feature_corr, \n",
    "    vmin=-1, vmax=1, center=0,\n",
    "    cmap=sns.diverging_palette(20, 220, n=200),\n",
    "    square=True,\n",
    ")\n",
    "ax.set_xticklabels(\n",
    "    ax.get_xticklabels(),\n",
    "    rotation=45,\n",
    "    horizontalalignment='right'\n",
    ")\n",
    "plt.xticks(fontsize=10, weight='bold')\n",
    "plt.yticks(fontsize=10, weight='bold')\n",
    "fig1 = plt.gcf()\n",
    "plt.show()\n",
    "plt.draw()\n",
    "# fig1.savefig('/home/szamani/Desktop/mcmaster/Thesis/figures/eda/moa/moa_incremental_feature_corr.png', bbox_inches='tight')"
   ]
  }
 ],
 "metadata": {
  "kernelspec": {
   "display_name": "venv",
   "language": "python",
   "name": "venv"
  },
  "language_info": {
   "codemirror_mode": {
    "name": "ipython",
    "version": 3
   },
   "file_extension": ".py",
   "mimetype": "text/x-python",
   "name": "python",
   "nbconvert_exporter": "python",
   "pygments_lexer": "ipython3",
   "version": "3.8.10"
  }
 },
 "nbformat": 4,
 "nbformat_minor": 4
}

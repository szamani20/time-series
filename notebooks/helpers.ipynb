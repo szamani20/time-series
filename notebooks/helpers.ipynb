{
 "cells": [
  {
   "cell_type": "code",
   "execution_count": 1,
   "metadata": {},
   "outputs": [],
   "source": [
    "import pandas as pd\n",
    "import matplotlib.pyplot as plt"
   ]
  },
  {
   "cell_type": "code",
   "execution_count": 3,
   "metadata": {},
   "outputs": [
    {
     "data": {
      "text/html": [
       "<div>\n",
       "<style scoped>\n",
       "    .dataframe tbody tr th:only-of-type {\n",
       "        vertical-align: middle;\n",
       "    }\n",
       "\n",
       "    .dataframe tbody tr th {\n",
       "        vertical-align: top;\n",
       "    }\n",
       "\n",
       "    .dataframe thead th {\n",
       "        text-align: right;\n",
       "    }\n",
       "</style>\n",
       "<table border=\"1\" class=\"dataframe\">\n",
       "  <thead>\n",
       "    <tr style=\"text-align: right;\">\n",
       "      <th></th>\n",
       "      <th>rcdminutes</th>\n",
       "      <th>temperature</th>\n",
       "      <th>humidity</th>\n",
       "      <th>light</th>\n",
       "      <th>voltage</th>\n",
       "      <th>class</th>\n",
       "    </tr>\n",
       "  </thead>\n",
       "  <tbody>\n",
       "    <tr>\n",
       "      <th>0</th>\n",
       "      <td>58.0</td>\n",
       "      <td>19.7336</td>\n",
       "      <td>37.0933</td>\n",
       "      <td>71.76000</td>\n",
       "      <td>2.69964</td>\n",
       "      <td>19</td>\n",
       "    </tr>\n",
       "    <tr>\n",
       "      <th>1</th>\n",
       "      <td>58.0</td>\n",
       "      <td>19.6160</td>\n",
       "      <td>37.5737</td>\n",
       "      <td>97.52000</td>\n",
       "      <td>2.69964</td>\n",
       "      <td>25</td>\n",
       "    </tr>\n",
       "    <tr>\n",
       "      <th>2</th>\n",
       "      <td>58.0</td>\n",
       "      <td>19.7728</td>\n",
       "      <td>37.1620</td>\n",
       "      <td>143.52000</td>\n",
       "      <td>2.71196</td>\n",
       "      <td>24</td>\n",
       "    </tr>\n",
       "    <tr>\n",
       "      <th>3</th>\n",
       "      <td>58.0</td>\n",
       "      <td>20.2040</td>\n",
       "      <td>36.8871</td>\n",
       "      <td>50.60000</td>\n",
       "      <td>2.69964</td>\n",
       "      <td>3</td>\n",
       "    </tr>\n",
       "    <tr>\n",
       "      <th>4</th>\n",
       "      <td>58.0</td>\n",
       "      <td>20.4196</td>\n",
       "      <td>36.6118</td>\n",
       "      <td>121.44000</td>\n",
       "      <td>2.65143</td>\n",
       "      <td>6</td>\n",
       "    </tr>\n",
       "    <tr>\n",
       "      <th>...</th>\n",
       "      <td>...</td>\n",
       "      <td>...</td>\n",
       "      <td>...</td>\n",
       "      <td>...</td>\n",
       "      <td>...</td>\n",
       "      <td>...</td>\n",
       "    </tr>\n",
       "    <tr>\n",
       "      <th>2219798</th>\n",
       "      <td>660.0</td>\n",
       "      <td>23.4968</td>\n",
       "      <td>35.8530</td>\n",
       "      <td>0.04022</td>\n",
       "      <td>2.81479</td>\n",
       "      <td>56</td>\n",
       "    </tr>\n",
       "    <tr>\n",
       "      <th>2219799</th>\n",
       "      <td>661.0</td>\n",
       "      <td>23.4968</td>\n",
       "      <td>35.8530</td>\n",
       "      <td>0.04022</td>\n",
       "      <td>2.81479</td>\n",
       "      <td>56</td>\n",
       "    </tr>\n",
       "    <tr>\n",
       "      <th>2219800</th>\n",
       "      <td>661.0</td>\n",
       "      <td>23.4772</td>\n",
       "      <td>35.8530</td>\n",
       "      <td>0.04022</td>\n",
       "      <td>2.82819</td>\n",
       "      <td>56</td>\n",
       "    </tr>\n",
       "    <tr>\n",
       "      <th>2219801</th>\n",
       "      <td>662.0</td>\n",
       "      <td>23.4968</td>\n",
       "      <td>35.8530</td>\n",
       "      <td>0.04022</td>\n",
       "      <td>2.81479</td>\n",
       "      <td>56</td>\n",
       "    </tr>\n",
       "    <tr>\n",
       "      <th>2219802</th>\n",
       "      <td>662.0</td>\n",
       "      <td>23.5360</td>\n",
       "      <td>36.4396</td>\n",
       "      <td>37.72000</td>\n",
       "      <td>2.80151</td>\n",
       "      <td>56</td>\n",
       "    </tr>\n",
       "  </tbody>\n",
       "</table>\n",
       "<p>2219803 rows × 6 columns</p>\n",
       "</div>"
      ],
      "text/plain": [
       "         rcdminutes  temperature  humidity      light  voltage  class\n",
       "0              58.0      19.7336   37.0933   71.76000  2.69964     19\n",
       "1              58.0      19.6160   37.5737   97.52000  2.69964     25\n",
       "2              58.0      19.7728   37.1620  143.52000  2.71196     24\n",
       "3              58.0      20.2040   36.8871   50.60000  2.69964      3\n",
       "4              58.0      20.4196   36.6118  121.44000  2.65143      6\n",
       "...             ...          ...       ...        ...      ...    ...\n",
       "2219798       660.0      23.4968   35.8530    0.04022  2.81479     56\n",
       "2219799       661.0      23.4968   35.8530    0.04022  2.81479     56\n",
       "2219800       661.0      23.4772   35.8530    0.04022  2.82819     56\n",
       "2219801       662.0      23.4968   35.8530    0.04022  2.81479     56\n",
       "2219802       662.0      23.5360   36.4396   37.72000  2.80151     56\n",
       "\n",
       "[2219803 rows x 6 columns]"
      ]
     },
     "execution_count": 3,
     "metadata": {},
     "output_type": "execute_result"
    }
   ],
   "source": [
    "df = pd.read_csv('/home/szamani/PycharmProjects/anomaly_detection/dataset/concepts/sensor/sensor.csv')\n",
    "df"
   ]
  },
  {
   "cell_type": "code",
   "execution_count": 21,
   "metadata": {},
   "outputs": [
    {
     "data": {
      "text/plain": [
       "<matplotlib.axes._subplots.AxesSubplot at 0x7fc83e426640>"
      ]
     },
     "execution_count": 21,
     "metadata": {},
     "output_type": "execute_result"
    },
    {
     "data": {
      "image/png": "[encoded data removed]",
      "text/plain": [
       "<Figure size 432x288 with 1 Axes>"
      ]
     },
     "metadata": {
      "needs_background": "light"
     },
     "output_type": "display_data"
    }
   ],
   "source": [
    "df['humidity'].plot()"
   ]
  },
  {
   "cell_type": "code",
   "execution_count": 16,
   "metadata": {},
   "outputs": [
    {
     "name": "stdout",
     "output_type": "stream",
     "text": [
      "[-38.4, -38.4, -38.4, -38.4, -38.4, -38.4, -38.4, -38.4, -38.4, -38.4, -38.4, -38.4, -38.4, -38.4, -38.4, -38.4, -38.4, -38.4, -38.4, -38.4, -38.4, -38.4, -38.4, -38.4, -38.4, -38.4, -38.4, -38.4, -38.4, -38.4, -38.4, -38.4, -38.4, -38.4, -38.4, -38.4, -38.4, -38.4, -38.4, -38.4, -38.4, -38.4, -38.4, -38.4, -38.4, -38.4, -38.4, -38.4, -38.4, -38.4, -38.4, -38.4, -38.4, -38.4, -38.4, -38.4, -38.4, -38.4, -38.4, -38.4, -38.4, -38.4, -38.4, -38.4, -38.4, -38.4, -38.4, -38.4, -38.4, -38.4, -38.4, -38.4, -38.4, -38.4, -38.4, -38.4, -38.4, -38.4, -38.4, -38.4, -38.4, -38.4, -38.4, -38.4, -38.4, -38.4, -38.4, -38.4, -38.4, -38.4, -38.4, -38.4, -38.4, -38.4, -38.4, -38.4, -38.4, -38.4, -38.4, -38.4]\n"
     ]
    }
   ],
   "source": [
    "print(sorted(df['temperature'].tolist())[:100])"
   ]
  },
  {
   "cell_type": "code",
   "execution_count": 25,
   "metadata": {},
   "outputs": [
    {
     "data": {
      "text/plain": [
       "539.4277075896877"
      ]
     },
     "execution_count": 25,
     "metadata": {},
     "output_type": "execute_result"
    }
   ],
   "source": [
    "df['light'].std()"
   ]
  },
  {
   "cell_type": "code",
   "execution_count": 24,
   "metadata": {},
   "outputs": [
    {
     "data": {
      "text/plain": [
       "37.421160270773576"
      ]
     },
     "execution_count": 24,
     "metadata": {},
     "output_type": "execute_result"
    }
   ],
   "source": [
    "df['temperature'].std()"
   ]
  },
  {
   "cell_type": "code",
   "execution_count": 22,
   "metadata": {},
   "outputs": [
    {
     "data": {
      "text/plain": [
       "17.240568376591774"
      ]
     },
     "execution_count": 22,
     "metadata": {},
     "output_type": "execute_result"
    }
   ],
   "source": [
    "df['humidity'].std()"
   ]
  },
  {
   "cell_type": "code",
   "execution_count": 23,
   "metadata": {},
   "outputs": [
    {
     "data": {
      "text/plain": [
       "0.17840798291467005"
      ]
     },
     "execution_count": 23,
     "metadata": {},
     "output_type": "execute_result"
    }
   ],
   "source": [
    "df['voltage'].std()"
   ]
  },
  {
   "cell_type": "code",
   "execution_count": 4,
   "metadata": {},
   "outputs": [
    {
     "data": {
      "text/plain": [
       "rcdminutes     float64\n",
       "temperature    float64\n",
       "humidity       float64\n",
       "light          float64\n",
       "voltage        float64\n",
       "class            int64\n",
       "dtype: object"
      ]
     },
     "execution_count": 4,
     "metadata": {},
     "output_type": "execute_result"
    }
   ],
   "source": [
    "df.dtypes"
   ]
  },
  {
   "cell_type": "code",
   "execution_count": 9,
   "metadata": {},
   "outputs": [
    {
     "data": {
      "text/plain": [
       "class\n",
       "1     43047\n",
       "2     46915\n",
       "3     46633\n",
       "4     43793\n",
       "6     35666\n",
       "7     55354\n",
       "8     15809\n",
       "9     45204\n",
       "10    47155\n",
       "11    41833\n",
       "12    19016\n",
       "13    27013\n",
       "14    26667\n",
       "15     2038\n",
       "16    32998\n",
       "17    33779\n",
       "18    33433\n",
       "19    39455\n",
       "20    28832\n",
       "21    58521\n",
       "22    60164\n",
       "23    62409\n",
       "24    57352\n",
       "25    53162\n",
       "26    61513\n",
       "27    37627\n",
       "29    64384\n",
       "30    38343\n",
       "31    65689\n",
       "32    43092\n",
       "33    35749\n",
       "34    48764\n",
       "35    51338\n",
       "36    56357\n",
       "37    47915\n",
       "38    49155\n",
       "39    32736\n",
       "40    46621\n",
       "41    40836\n",
       "42    44860\n",
       "43    38656\n",
       "44    47681\n",
       "45    53245\n",
       "46    52988\n",
       "47    56858\n",
       "48    58215\n",
       "49    34811\n",
       "50    15737\n",
       "51    42259\n",
       "52    34067\n",
       "53    25622\n",
       "54    28718\n",
       "55     2850\n",
       "56     2372\n",
       "58     4497\n",
       "Name: light, dtype: int64"
      ]
     },
     "execution_count": 9,
     "metadata": {},
     "output_type": "execute_result"
    }
   ],
   "source": [
    "df.groupby(['class'])['light'].count()"
   ]
  },
  {
   "cell_type": "code",
   "execution_count": 10,
   "metadata": {},
   "outputs": [
    {
     "data": {
      "text/html": [
       "<div>\n",
       "<style scoped>\n",
       "    .dataframe tbody tr th:only-of-type {\n",
       "        vertical-align: middle;\n",
       "    }\n",
       "\n",
       "    .dataframe tbody tr th {\n",
       "        vertical-align: top;\n",
       "    }\n",
       "\n",
       "    .dataframe thead th {\n",
       "        text-align: right;\n",
       "    }\n",
       "</style>\n",
       "<table border=\"1\" class=\"dataframe\">\n",
       "  <thead>\n",
       "    <tr style=\"text-align: right;\">\n",
       "      <th></th>\n",
       "      <th>rcdminutes</th>\n",
       "      <th>temperature</th>\n",
       "      <th>humidity</th>\n",
       "      <th>light</th>\n",
       "      <th>voltage</th>\n",
       "      <th>class</th>\n",
       "    </tr>\n",
       "  </thead>\n",
       "  <tbody>\n",
       "    <tr>\n",
       "      <th>2121557</th>\n",
       "      <td>1066.0</td>\n",
       "      <td>23.9672</td>\n",
       "      <td>41.3098</td>\n",
       "      <td>323.84</td>\n",
       "      <td>3.12589</td>\n",
       "      <td>58</td>\n",
       "    </tr>\n",
       "    <tr>\n",
       "      <th>2121590</th>\n",
       "      <td>1067.0</td>\n",
       "      <td>23.3792</td>\n",
       "      <td>42.5178</td>\n",
       "      <td>323.84</td>\n",
       "      <td>3.12589</td>\n",
       "      <td>58</td>\n",
       "    </tr>\n",
       "    <tr>\n",
       "      <th>2121595</th>\n",
       "      <td>1068.0</td>\n",
       "      <td>23.2616</td>\n",
       "      <td>42.8187</td>\n",
       "      <td>323.84</td>\n",
       "      <td>3.10953</td>\n",
       "      <td>58</td>\n",
       "    </tr>\n",
       "    <tr>\n",
       "      <th>2121606</th>\n",
       "      <td>1068.0</td>\n",
       "      <td>23.1538</td>\n",
       "      <td>43.0524</td>\n",
       "      <td>323.84</td>\n",
       "      <td>3.10953</td>\n",
       "      <td>58</td>\n",
       "    </tr>\n",
       "    <tr>\n",
       "      <th>2121638</th>\n",
       "      <td>1070.0</td>\n",
       "      <td>22.8892</td>\n",
       "      <td>43.6188</td>\n",
       "      <td>323.84</td>\n",
       "      <td>3.09333</td>\n",
       "      <td>58</td>\n",
       "    </tr>\n",
       "    <tr>\n",
       "      <th>...</th>\n",
       "      <td>...</td>\n",
       "      <td>...</td>\n",
       "      <td>...</td>\n",
       "      <td>...</td>\n",
       "      <td>...</td>\n",
       "      <td>...</td>\n",
       "    </tr>\n",
       "    <tr>\n",
       "      <th>2219752</th>\n",
       "      <td>981.0</td>\n",
       "      <td>23.9378</td>\n",
       "      <td>34.6403</td>\n",
       "      <td>86.48</td>\n",
       "      <td>2.59354</td>\n",
       "      <td>58</td>\n",
       "    </tr>\n",
       "    <tr>\n",
       "      <th>2219753</th>\n",
       "      <td>981.0</td>\n",
       "      <td>23.9280</td>\n",
       "      <td>34.6403</td>\n",
       "      <td>86.48</td>\n",
       "      <td>2.60491</td>\n",
       "      <td>58</td>\n",
       "    </tr>\n",
       "    <tr>\n",
       "      <th>2219754</th>\n",
       "      <td>1254.0</td>\n",
       "      <td>21.6348</td>\n",
       "      <td>37.1963</td>\n",
       "      <td>3.22</td>\n",
       "      <td>2.56000</td>\n",
       "      <td>58</td>\n",
       "    </tr>\n",
       "    <tr>\n",
       "      <th>2219755</th>\n",
       "      <td>633.0</td>\n",
       "      <td>25.1040</td>\n",
       "      <td>33.6302</td>\n",
       "      <td>104.88</td>\n",
       "      <td>2.56000</td>\n",
       "      <td>58</td>\n",
       "    </tr>\n",
       "    <tr>\n",
       "      <th>2219756</th>\n",
       "      <td>633.0</td>\n",
       "      <td>25.1236</td>\n",
       "      <td>33.6302</td>\n",
       "      <td>86.48</td>\n",
       "      <td>2.56000</td>\n",
       "      <td>58</td>\n",
       "    </tr>\n",
       "  </tbody>\n",
       "</table>\n",
       "<p>4497 rows × 6 columns</p>\n",
       "</div>"
      ],
      "text/plain": [
       "         rcdminutes  temperature  humidity   light  voltage  class\n",
       "2121557      1066.0      23.9672   41.3098  323.84  3.12589     58\n",
       "2121590      1067.0      23.3792   42.5178  323.84  3.12589     58\n",
       "2121595      1068.0      23.2616   42.8187  323.84  3.10953     58\n",
       "2121606      1068.0      23.1538   43.0524  323.84  3.10953     58\n",
       "2121638      1070.0      22.8892   43.6188  323.84  3.09333     58\n",
       "...             ...          ...       ...     ...      ...    ...\n",
       "2219752       981.0      23.9378   34.6403   86.48  2.59354     58\n",
       "2219753       981.0      23.9280   34.6403   86.48  2.60491     58\n",
       "2219754      1254.0      21.6348   37.1963    3.22  2.56000     58\n",
       "2219755       633.0      25.1040   33.6302  104.88  2.56000     58\n",
       "2219756       633.0      25.1236   33.6302   86.48  2.56000     58\n",
       "\n",
       "[4497 rows x 6 columns]"
      ]
     },
     "execution_count": 10,
     "metadata": {},
     "output_type": "execute_result"
    }
   ],
   "source": [
    "df[df['class'] == 58]"
   ]
  },
  {
   "cell_type": "markdown",
   "metadata": {},
   "source": [
    "## Unifrom"
   ]
  },
  {
   "cell_type": "code",
   "execution_count": 82,
   "metadata": {},
   "outputs": [
    {
     "data": {
      "image/png": "[encoded data removed]",
      "text/plain": [
       "<Figure size 432x288 with 1 Axes>"
      ]
     },
     "metadata": {
      "needs_background": "light"
     },
     "output_type": "display_data"
    },
    {
     "data": {
      "text/plain": [
       "<Figure size 432x288 with 0 Axes>"
      ]
     },
     "metadata": {},
     "output_type": "display_data"
    }
   ],
   "source": [
    "import matplotlib.pyplot as plt\n",
    "import numpy as np\n",
    "import scipy.stats as stats\n",
    "import math\n",
    "\n",
    "x1 = np.arange(0, 100)\n",
    "y1 = [1] * 100\n",
    "\n",
    "fig, ax = plt.subplots()\n",
    "ax.plot(x1, y1)\n",
    "\n",
    "plt.xlabel('Percentile of Time Series', fontsize=12, weight='bold')\n",
    "plt.ylabel('Percentage of Anomaly', fontsize=12, weight='bold')\n",
    "\n",
    "plt.title('Anomaly Injection Uniform Distributions', weight='bold')\n",
    "plt.xticks(fontsize=10, weight='bold')\n",
    "plt.yticks(fontsize=10, weight='bold')\n",
    "fig1 = plt.gcf()\n",
    "plt.ylim(0, 5)\n",
    "plt.show()\n",
    "plt.draw()\n",
    "# fig1.savefig('/home/szamani/Desktop/mcmaster/Thesis/figures/showcases/uniform_anomaly.png', bbox_inches='tight')"
   ]
  },
  {
   "cell_type": "markdown",
   "metadata": {},
   "source": [
    "## Normal Distro"
   ]
  },
  {
   "cell_type": "code",
   "execution_count": 100,
   "metadata": {},
   "outputs": [
    {
     "data": {
      "image/png": "[encoded data removed]",
      "text/plain": [
       "<Figure size 432x288 with 1 Axes>"
      ]
     },
     "metadata": {
      "needs_background": "light"
     },
     "output_type": "display_data"
    },
    {
     "data": {
      "text/plain": [
       "<Figure size 432x288 with 0 Axes>"
      ]
     },
     "metadata": {},
     "output_type": "display_data"
    }
   ],
   "source": [
    "import matplotlib.pyplot as plt\n",
    "import numpy as np\n",
    "import scipy.stats as stats\n",
    "import math\n",
    "\n",
    "mu = 50\n",
    "\n",
    "sigma1 = 16.666\n",
    "x1 = np.linspace(mu - 3*sigma1, mu + 3*sigma1, 100)\n",
    "\n",
    "fig, ax = plt.subplots()\n",
    "ax.plot(x1, stats.norm.pdf(x1, mu, sigma1)*100)\n",
    "\n",
    "plt.xlabel('Percentile of Time Series')\n",
    "plt.ylabel('Percentage of Anomaly')\n",
    "\n",
    "plt.title('Anomaly Injection Normal Distributions', weight='bold')\n",
    "fig1 = plt.gcf()\n",
    "plt.xlim(0, 100)\n",
    "plt.show()\n",
    "plt.draw()\n",
    "fig1.savefig('/home/szamani/Desktop/mcmaster/Thesis/figures/showcases/normal_anomaly.png', bbox_inches='tight')"
   ]
  },
  {
   "cell_type": "markdown",
   "metadata": {},
   "source": [
    "## Zipfian"
   ]
  },
  {
   "cell_type": "code",
   "execution_count": 41,
   "metadata": {},
   "outputs": [],
   "source": [
    "from scipy import special\n",
    "from scipy.stats import zipfian\n",
    "import numpy as np"
   ]
  },
  {
   "cell_type": "code",
   "execution_count": 104,
   "metadata": {},
   "outputs": [
    {
     "data": {
      "image/png": "[encoded data removed]",
      "text/plain": [
       "<Figure size 432x288 with 1 Axes>"
      ]
     },
     "metadata": {
      "needs_background": "light"
     },
     "output_type": "display_data"
    },
    {
     "data": {
      "text/plain": [
       "<Figure size 432x288 with 0 Axes>"
      ]
     },
     "metadata": {},
     "output_type": "display_data"
    }
   ],
   "source": [
    "a, n = 0.5, 100\n",
    "mean, var, skew, kurt = zipfian.stats(a, n, moments='mvsk')\n",
    "\n",
    "x = np.arange(zipfian.ppf(0.01, a, n),\n",
    "              zipfian.ppf(0.99, a, n))\n",
    "\n",
    "fig, ax = plt.subplots()\n",
    "ax.plot(x, zipfian.pmf(x, a, n)*100)\n",
    "\n",
    "plt.xlabel('Percentile of Time Series')\n",
    "plt.ylabel('Percentage of Anomaly')\n",
    "\n",
    "plt.title('Anomaly Injection Zipfian Distributions', weight='bold')\n",
    "fig1 = plt.gcf()\n",
    "plt.xlim(0, 100)\n",
    "plt.show()\n",
    "plt.draw()\n",
    "fig1.savefig('/home/szamani/Desktop/mcmaster/Thesis/figures/showcases/zipfian_anomaly.png', bbox_inches='tight')"
   ]
  },
  {
   "cell_type": "code",
   "execution_count": null,
   "metadata": {},
   "outputs": [],
   "source": []
  },
  {
   "cell_type": "code",
   "execution_count": 1,
   "metadata": {},
   "outputs": [],
   "source": [
    "import numpy as np\n",
    "import random"
   ]
  },
  {
   "cell_type": "code",
   "execution_count": 7,
   "metadata": {},
   "outputs": [],
   "source": [
    "a = [1, 2, 3, 4, 5, 6, 7, 8, 9, 10, 11, 12, 13, 14, 15, 16, 17, 18, 19, 20]"
   ]
  },
  {
   "cell_type": "code",
   "execution_count": 8,
   "metadata": {},
   "outputs": [
    {
     "data": {
      "text/plain": [
       "[1, 2, 3, 4, 5, 6, 7, 8, 9, 10, 11, 12, 13, 14, 15, 16, 17, 18, 19, 20]"
      ]
     },
     "execution_count": 8,
     "metadata": {},
     "output_type": "execute_result"
    }
   ],
   "source": [
    "a"
   ]
  },
  {
   "cell_type": "code",
   "execution_count": 13,
   "metadata": {},
   "outputs": [],
   "source": [
    "b = a[4:16]\n",
    "random.shuffle(b)"
   ]
  },
  {
   "cell_type": "code",
   "execution_count": 14,
   "metadata": {},
   "outputs": [],
   "source": [
    "a[4:16] = b"
   ]
  },
  {
   "cell_type": "code",
   "execution_count": 15,
   "metadata": {},
   "outputs": [
    {
     "data": {
      "text/plain": [
       "[1, 2, 3, 4, 8, 9, 14, 7, 11, 12, 13, 10, 6, 15, 5, 16, 17, 18, 19, 20]"
      ]
     },
     "execution_count": 15,
     "metadata": {},
     "output_type": "execute_result"
    }
   ],
   "source": [
    "a"
   ]
  },
  {
   "cell_type": "code",
   "execution_count": null,
   "metadata": {},
   "outputs": [],
   "source": []
  }
 ],
 "metadata": {
  "kernelspec": {
   "display_name": "venv",
   "language": "python",
   "name": "venv"
  },
  "language_info": {
   "codemirror_mode": {
    "name": "ipython",
    "version": 3
   },
   "file_extension": ".py",
   "mimetype": "text/x-python",
   "name": "python",
   "nbconvert_exporter": "python",
   "pygments_lexer": "ipython3",
   "version": "3.8.10"
  }
 },
 "nbformat": 4,
 "nbformat_minor": 4
}
